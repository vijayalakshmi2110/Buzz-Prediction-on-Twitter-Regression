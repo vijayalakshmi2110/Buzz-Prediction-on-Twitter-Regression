{
 "cells": [
  {
   "cell_type": "markdown",
   "metadata": {},
   "source": [
    "### <font color='red'> Project 3 : Buzz Prediction on Twitter\n",
    "\n",
    "Project Description:\n",
    "- Use same datasets as Project 2.\n",
    "- Run all the models only on 10% data. Use code given in Project 2 for sampling.\n",
    "- Preprocess data: Explore data and apply data scaling.\n",
    "\n",
    "Regression Task:\n",
    "- Apply any two models with bagging and any two models with pasting.\n",
    "- Apply any two models with adaboost boosting\n",
    "- Apply one model with gradient boosting\n",
    "- Apply PCA on data and then apply all the models in project 2 again on data you get from PCA. Compare your results with results in project 2. You don't need to apply all the models twice. Just copy the result table from project 2, prepare similar table for all the models after PCA and compare both tables. Does PCA help in getting better results?\n",
    "- Apply deep learning models covered in class\n",
    "\n",
    "Classification Task:\n",
    "- Apply four voting classifiers - two with hard voting and two with soft voting\n",
    "- Apply any two models with bagging and any two models with pasting.\n",
    "- Apply any two models with adaboost boosting\n",
    "- Apply one model with gradient boosting\n",
    "- Apply PCA on data and then apply all the models in project 2 again on data you get from PCA. Compare your results with results in project 2. You don't need to apply all the models twice. Just copy the result table from project 2, prepare similar table for all the models after PCA and compare both tables. Does PCA help in getting better results?\n",
    "- Apply deep learning models covered in class\n",
    "\n",
    "Deliverables:\n",
    "- Use markdown to provide inline comments for this project.\n",
    "- Your outputs should be clearly executed in the notebook i.e. we should not need to rerun the code to obtain the outputs.\n",
    "- Visualization encouraged.\n",
    "- If you are submitting two different files, then please only one group member submit both the files. If you submit two files separately from different accounts, it will be submitted as two different attempts.\n",
    "- If you are submitting two different files, then please follow below naming convetion:\n",
    "    Project3_Regression_GroupXX_Firstname1_Firstname2.ipynb\n",
    "    Project3_Classification_GroupXX_Firstname1_Firstname2.ipynb\n",
    "- If you are submitting single file, then please follow below naming convetion:\n",
    "    Project3_Both_GroupXX_Firstname1_Firstname2.ipynb\n",
    "\n",
    "Questions regarding the project:\n",
    "- We have created a discussion board under Projects folder on e-learning. Create threads over there and post your queries related to project there.\n",
    "- We will also answer queries there. We will not be answering any project related queries through the mail."
   ]
  },
  {
   "cell_type": "markdown",
   "metadata": {},
   "source": [
    "Regression Task"
   ]
  },
  {
   "cell_type": "code",
   "execution_count": 2,
   "metadata": {},
   "outputs": [],
   "source": [
    "import pandas as pd\n",
    "import numpy as np\n",
    "import matplotlib.pyplot as plt"
   ]
  },
  {
   "cell_type": "code",
   "execution_count": 3,
   "metadata": {},
   "outputs": [],
   "source": [
    "data = pd.read_table(\"Twitter.data\",sep=\",\",header=None)\n",
    "X_data = data.iloc[:,0:77]\n",
    "Y_data = data.iloc[:,77]"
   ]
  },
  {
   "cell_type": "code",
   "execution_count": 4,
   "metadata": {},
   "outputs": [],
   "source": [
    "from sklearn.model_selection import train_test_split\n",
    "X_whytouse, sampled_X, Y_whytouse, sampled_y = train_test_split(X_data, Y_data, shuffle = True, test_size = 0.01, random_state=42)\n",
    "#Sampling the dataset so that it doesn't take a lot of time for processing"
   ]
  },
  {
   "cell_type": "code",
   "execution_count": 5,
   "metadata": {},
   "outputs": [],
   "source": [
    "from sklearn.preprocessing import MinMaxScaler\n",
    "scaler = MinMaxScaler()\n",
    "sampled_X = scaler.fit_transform(sampled_X)"
   ]
  },
  {
   "cell_type": "code",
   "execution_count": 6,
   "metadata": {},
   "outputs": [],
   "source": [
    "X_train, X_test, y_train, y_test = train_test_split(sampled_X, sampled_y, shuffle = True, test_size = 0.30, random_state=42)"
   ]
  },
  {
   "cell_type": "markdown",
   "metadata": {},
   "source": [
    "Bagging Regressor"
   ]
  },
  {
   "cell_type": "code",
   "execution_count": 7,
   "metadata": {},
   "outputs": [],
   "source": [
    "from sklearn.ensemble import BaggingRegressor\n",
    "from sklearn.tree import DecisionTreeRegressor\n",
    "\n",
    "dt_reg = DecisionTreeRegressor(random_state=42)\n",
    "bag_dtreg = BaggingRegressor(dt_reg, n_estimators=500, max_samples=100, bootstrap=True, n_jobs=-1, random_state=42)\n",
    "\n",
    "bag_dtreg.fit(X_train, y_train)\n",
    "y_bag_dtreg_pred = bag_dtreg.predict(X_test)"
   ]
  },
  {
   "cell_type": "code",
   "execution_count": 8,
   "metadata": {},
   "outputs": [
    {
     "name": "stdout",
     "output_type": "stream",
     "text": [
      "Train score: 0.70\n",
      "Test score: 0.85\n"
     ]
    }
   ],
   "source": [
    "print('Train score: {:.2f}'.format(bag_dtreg.score(X_train, y_train)))\n",
    "print('Test score: {:.2f}'.format(bag_dtreg.score(X_test, y_test)))"
   ]
  },
  {
   "cell_type": "code",
   "execution_count": 9,
   "metadata": {},
   "outputs": [],
   "source": [
    "from sklearn.ensemble import BaggingRegressor\n",
    "from sklearn.svm import LinearSVR\n",
    "\n",
    "linsvr_reg = LinearSVR(random_state=42)\n",
    "bag_linsvr = BaggingRegressor(linsvr_reg, n_estimators=500, max_samples=100, bootstrap=True, n_jobs=-1, random_state=42)\n",
    "\n",
    "bag_linsvr.fit(X_train, y_train)\n",
    "y_bag_linsvr_pred = bag_linsvr.predict(X_test)"
   ]
  },
  {
   "cell_type": "code",
   "execution_count": 10,
   "metadata": {},
   "outputs": [
    {
     "name": "stdout",
     "output_type": "stream",
     "text": [
      "Train score: 0.17\n",
      "Test score: 0.15\n"
     ]
    }
   ],
   "source": [
    "print('Train score: {:.2f}'.format(bag_linsvr.score(X_train, y_train)))\n",
    "print('Test score: {:.2f}'.format(bag_linsvr.score(X_test, y_test)))"
   ]
  },
  {
   "cell_type": "markdown",
   "metadata": {},
   "source": [
    "Pasting Regressor"
   ]
  },
  {
   "cell_type": "code",
   "execution_count": 11,
   "metadata": {},
   "outputs": [],
   "source": [
    "from sklearn.ensemble import BaggingRegressor\n",
    "from sklearn.tree import DecisionTreeRegressor\n",
    "\n",
    "dt_reg = DecisionTreeRegressor(random_state=42)\n",
    "paste_dtreg = BaggingRegressor(dt_reg, n_estimators=500, max_samples=100, bootstrap=False, n_jobs=-1, random_state=42)\n",
    "\n",
    "paste_dtreg.fit(X_train, y_train)\n",
    "y_paste_dtreg_pred = paste_dtreg.predict(X_test)"
   ]
  },
  {
   "cell_type": "code",
   "execution_count": 12,
   "metadata": {},
   "outputs": [
    {
     "name": "stdout",
     "output_type": "stream",
     "text": [
      "Train score: 0.68\n",
      "Test score: 0.85\n"
     ]
    }
   ],
   "source": [
    "print('Train score: {:.2f}'.format(paste_dtreg.score(X_train, y_train)))\n",
    "print('Test score: {:.2f}'.format(paste_dtreg.score(X_test, y_test)))"
   ]
  },
  {
   "cell_type": "code",
   "execution_count": 13,
   "metadata": {},
   "outputs": [],
   "source": [
    "from sklearn.ensemble import BaggingRegressor\n",
    "from sklearn.svm import LinearSVR\n",
    "\n",
    "linsvr_reg = LinearSVR(random_state=42)\n",
    "paste_linsvr = BaggingRegressor(linsvr_reg, n_estimators=500, max_samples=100, bootstrap=False, n_jobs=-1, random_state=42)\n",
    "\n",
    "paste_linsvr.fit(X_train, y_train)\n",
    "y_paste_linsvr_pred = paste_linsvr.predict(X_test)"
   ]
  },
  {
   "cell_type": "code",
   "execution_count": 14,
   "metadata": {},
   "outputs": [
    {
     "name": "stdout",
     "output_type": "stream",
     "text": [
      "Train score: 0.17\n",
      "Test score: 0.15\n"
     ]
    }
   ],
   "source": [
    "print('Train score: {:.2f}'.format(paste_linsvr.score(X_train, y_train)))\n",
    "print('Test score: {:.2f}'.format(paste_linsvr.score(X_test, y_test)))"
   ]
  },
  {
   "cell_type": "markdown",
   "metadata": {},
   "source": [
    "AdaBoost Boosting"
   ]
  },
  {
   "cell_type": "code",
   "execution_count": 15,
   "metadata": {},
   "outputs": [
    {
     "name": "stderr",
     "output_type": "stream",
     "text": [
      "C:\\Users\\vijay\\AppData\\Local\\Continuum\\anaconda3\\lib\\site-packages\\sklearn\\linear_model\\coordinate_descent.py:491: ConvergenceWarning: Objective did not converge. You might want to increase the number of iterations. Fitting data with very small alpha may cause precision problems.\n",
      "  ConvergenceWarning)\n",
      "C:\\Users\\vijay\\AppData\\Local\\Continuum\\anaconda3\\lib\\site-packages\\sklearn\\linear_model\\coordinate_descent.py:491: ConvergenceWarning: Objective did not converge. You might want to increase the number of iterations. Fitting data with very small alpha may cause precision problems.\n",
      "  ConvergenceWarning)\n",
      "C:\\Users\\vijay\\AppData\\Local\\Continuum\\anaconda3\\lib\\site-packages\\sklearn\\linear_model\\coordinate_descent.py:491: ConvergenceWarning: Objective did not converge. You might want to increase the number of iterations. Fitting data with very small alpha may cause precision problems.\n",
      "  ConvergenceWarning)\n",
      "C:\\Users\\vijay\\AppData\\Local\\Continuum\\anaconda3\\lib\\site-packages\\sklearn\\linear_model\\coordinate_descent.py:491: ConvergenceWarning: Objective did not converge. You might want to increase the number of iterations. Fitting data with very small alpha may cause precision problems.\n",
      "  ConvergenceWarning)\n",
      "C:\\Users\\vijay\\AppData\\Local\\Continuum\\anaconda3\\lib\\site-packages\\sklearn\\linear_model\\coordinate_descent.py:491: ConvergenceWarning: Objective did not converge. You might want to increase the number of iterations. Fitting data with very small alpha may cause precision problems.\n",
      "  ConvergenceWarning)\n",
      "C:\\Users\\vijay\\AppData\\Local\\Continuum\\anaconda3\\lib\\site-packages\\sklearn\\linear_model\\coordinate_descent.py:491: ConvergenceWarning: Objective did not converge. You might want to increase the number of iterations. Fitting data with very small alpha may cause precision problems.\n",
      "  ConvergenceWarning)\n",
      "C:\\Users\\vijay\\AppData\\Local\\Continuum\\anaconda3\\lib\\site-packages\\sklearn\\linear_model\\coordinate_descent.py:491: ConvergenceWarning: Objective did not converge. You might want to increase the number of iterations. Fitting data with very small alpha may cause precision problems.\n",
      "  ConvergenceWarning)\n",
      "C:\\Users\\vijay\\AppData\\Local\\Continuum\\anaconda3\\lib\\site-packages\\sklearn\\linear_model\\coordinate_descent.py:491: ConvergenceWarning: Objective did not converge. You might want to increase the number of iterations. Fitting data with very small alpha may cause precision problems.\n",
      "  ConvergenceWarning)\n",
      "C:\\Users\\vijay\\AppData\\Local\\Continuum\\anaconda3\\lib\\site-packages\\sklearn\\linear_model\\coordinate_descent.py:491: ConvergenceWarning: Objective did not converge. You might want to increase the number of iterations. Fitting data with very small alpha may cause precision problems.\n",
      "  ConvergenceWarning)\n",
      "C:\\Users\\vijay\\AppData\\Local\\Continuum\\anaconda3\\lib\\site-packages\\sklearn\\linear_model\\coordinate_descent.py:491: ConvergenceWarning: Objective did not converge. You might want to increase the number of iterations. Fitting data with very small alpha may cause precision problems.\n",
      "  ConvergenceWarning)\n"
     ]
    }
   ],
   "source": [
    "from sklearn.ensemble import AdaBoostRegressor\n",
    "from sklearn.linear_model import Lasso\n",
    "\n",
    "lasso_reg = Lasso(random_state=42)\n",
    "adaboost_lassoreg = AdaBoostRegressor(lasso_reg, n_estimators=50, learning_rate=1.0, random_state=42)\n",
    "\n",
    "adaboost_lassoreg.fit(X_train, y_train)\n",
    "y_adaboost_lassoreg_pred = adaboost_lassoreg.predict(X_test)"
   ]
  },
  {
   "cell_type": "code",
   "execution_count": 16,
   "metadata": {},
   "outputs": [
    {
     "name": "stdout",
     "output_type": "stream",
     "text": [
      "Train score: 0.94\n",
      "Test score: 0.86\n"
     ]
    }
   ],
   "source": [
    "print('Train score: {:.2f}'.format(adaboost_lassoreg.score(X_train, y_train)))\n",
    "print('Test score: {:.2f}'.format(adaboost_lassoreg.score(X_test, y_test)))"
   ]
  },
  {
   "cell_type": "code",
   "execution_count": 17,
   "metadata": {},
   "outputs": [],
   "source": [
    "from sklearn.ensemble import AdaBoostRegressor\n",
    "from  sklearn.linear_model import Ridge\n",
    "\n",
    "ridge_reg = Ridge(random_state=42)\n",
    "adaboost_ridgereg = AdaBoostRegressor(ridge_reg, n_estimators=50, learning_rate=1.0, random_state=42)\n",
    "\n",
    "adaboost_ridgereg.fit(X_train, y_train)\n",
    "y_adaboost_ridgereg_pred = adaboost_ridgereg.predict(X_test)"
   ]
  },
  {
   "cell_type": "code",
   "execution_count": 18,
   "metadata": {},
   "outputs": [
    {
     "name": "stdout",
     "output_type": "stream",
     "text": [
      "Train score: 0.96\n",
      "Test score: 0.91\n"
     ]
    }
   ],
   "source": [
    "print('Train score: {:.2f}'.format(adaboost_ridgereg.score(X_train, y_train)))\n",
    "print('Test score: {:.2f}'.format(adaboost_ridgereg.score(X_test, y_test)))"
   ]
  },
  {
   "cell_type": "markdown",
   "metadata": {},
   "source": [
    "Gradient Boosting"
   ]
  },
  {
   "cell_type": "code",
   "execution_count": 19,
   "metadata": {},
   "outputs": [
    {
     "data": {
      "text/plain": [
       "GradientBoostingRegressor(alpha=0.9, criterion='friedman_mse', init=None,\n",
       "             learning_rate=1.0, loss='ls', max_depth=2, max_features=None,\n",
       "             max_leaf_nodes=None, min_impurity_decrease=0.0,\n",
       "             min_impurity_split=None, min_samples_leaf=1,\n",
       "             min_samples_split=2, min_weight_fraction_leaf=0.0,\n",
       "             n_estimators=3, presort='auto', random_state=42,\n",
       "             subsample=1.0, verbose=0, warm_start=False)"
      ]
     },
     "execution_count": 19,
     "metadata": {},
     "output_type": "execute_result"
    }
   ],
   "source": [
    "from  sklearn.ensemble import GradientBoostingRegressor\n",
    "\n",
    "gbrt_reg = GradientBoostingRegressor(max_depth=2, n_estimators=3, learning_rate=1.0, random_state=42)\n",
    "\n",
    "gbrt_reg.fit(X_train, y_train)"
   ]
  },
  {
   "cell_type": "code",
   "execution_count": 21,
   "metadata": {},
   "outputs": [
    {
     "name": "stdout",
     "output_type": "stream",
     "text": [
      "Train score: 0.92\n",
      "Test score: 0.80\n"
     ]
    }
   ],
   "source": [
    "print('Train score: {:.2f}'.format(gbrt_reg.score(X_train, y_train)))\n",
    "print('Test score: {:.2f}'.format(gbrt_reg.score(X_test, y_test)))"
   ]
  },
  {
   "cell_type": "markdown",
   "metadata": {},
   "source": [
    "PCA"
   ]
  },
  {
   "cell_type": "code",
   "execution_count": 22,
   "metadata": {},
   "outputs": [],
   "source": [
    "from sklearn.decomposition import PCA\n",
    "\n",
    "pca = PCA(n_components = 70)\n",
    "X_PCAtrans = pca.fit_transform(sampled_X)"
   ]
  },
  {
   "cell_type": "code",
   "execution_count": 23,
   "metadata": {},
   "outputs": [],
   "source": [
    "variance_ratio=pca.explained_variance_ratio_"
   ]
  },
  {
   "cell_type": "code",
   "execution_count": 24,
   "metadata": {},
   "outputs": [
    {
     "data": {
      "text/plain": [
       "[<matplotlib.lines.Line2D at 0x1f9ce95c390>]"
      ]
     },
     "execution_count": 24,
     "metadata": {},
     "output_type": "execute_result"
    },
    {
     "data": {
      "image/png": "[encoded data removed]",
      "text/plain": [
       "<Figure size 432x288 with 1 Axes>"
      ]
     },
     "metadata": {},
     "output_type": "display_data"
    }
   ],
   "source": [
    "import matplotlib.pyplot as plt\n",
    "plt.plot(variance_ratio)"
   ]
  },
  {
   "cell_type": "markdown",
   "metadata": {},
   "source": [
    "From the given plot it appears that the best possible components for  the PCA decomposition is 9."
   ]
  },
  {
   "cell_type": "code",
   "execution_count": 25,
   "metadata": {},
   "outputs": [],
   "source": [
    "pca = PCA(n_components = 9)\n",
    "X_PCAtrans = pca.fit_transform(sampled_X)"
   ]
  },
  {
   "cell_type": "code",
   "execution_count": 26,
   "metadata": {},
   "outputs": [],
   "source": [
    "X_pca_train, X_pca_test, y_pca_train, y_pca_test = train_test_split(X_PCAtrans, sampled_y, shuffle = True, test_size = 0.30, random_state=42)"
   ]
  },
  {
   "cell_type": "markdown",
   "metadata": {},
   "source": [
    "knn Regressor"
   ]
  },
  {
   "cell_type": "code",
   "execution_count": 27,
   "metadata": {},
   "outputs": [
    {
     "data": {
      "text/plain": [
       "GridSearchCV(cv=10, error_score='raise',\n",
       "       estimator=KNeighborsRegressor(algorithm='auto', leaf_size=30, metric='minkowski',\n",
       "          metric_params=None, n_jobs=1, n_neighbors=5, p=2,\n",
       "          weights='uniform'),\n",
       "       fit_params=None, iid=True, n_jobs=-1,\n",
       "       param_grid={'n_neighbors': [1, 2, 3, 4, 5]},\n",
       "       pre_dispatch='2*n_jobs', refit=True, return_train_score='warn',\n",
       "       scoring='r2', verbose=0)"
      ]
     },
     "execution_count": 27,
     "metadata": {},
     "output_type": "execute_result"
    }
   ],
   "source": [
    "from sklearn.neighbors import KNeighborsRegressor\n",
    "from sklearn.model_selection import GridSearchCV\n",
    "knnScoring =  'r2'\n",
    "param_grid = {\"n_neighbors\":[1,2,3,4,5]}\n",
    "knnr = KNeighborsRegressor()\n",
    "\n",
    "## Perform the grid search over the parameters\n",
    "grid_knnr = GridSearchCV(estimator = knnr, param_grid = param_grid, cv = 10, scoring = knnScoring, n_jobs=-1)\n",
    "grid_knnr.fit(X_pca_train, y_pca_train)"
   ]
  },
  {
   "cell_type": "code",
   "execution_count": 28,
   "metadata": {},
   "outputs": [
    {
     "name": "stdout",
     "output_type": "stream",
     "text": [
      "5\n",
      "0.8538283117826589\n"
     ]
    }
   ],
   "source": [
    "print(grid_knnr.best_estimator_.n_neighbors)\n",
    "print(grid_knnr.best_score_)"
   ]
  },
  {
   "cell_type": "code",
   "execution_count": 29,
   "metadata": {},
   "outputs": [
    {
     "data": {
      "text/plain": [
       "[['knnr', 'k = 5', 0.9053974112827241, 0.7309094955026095]]"
      ]
     },
     "execution_count": 29,
     "metadata": {},
     "output_type": "execute_result"
    }
   ],
   "source": [
    "report_table = [['knnr', 'k = 5', grid_knnr.score(X_pca_train, y_pca_train), grid_knnr.score(X_pca_test, y_pca_test)]]\n",
    "report_table"
   ]
  },
  {
   "cell_type": "markdown",
   "metadata": {},
   "source": [
    "Linear Regression"
   ]
  },
  {
   "cell_type": "code",
   "execution_count": 30,
   "metadata": {},
   "outputs": [
    {
     "data": {
      "text/plain": [
       "LinearRegression(copy_X=True, fit_intercept=True, n_jobs=1, normalize=False)"
      ]
     },
     "execution_count": 30,
     "metadata": {},
     "output_type": "execute_result"
    }
   ],
   "source": [
    "from sklearn import linear_model\n",
    "\n",
    "lin_mod = linear_model.LinearRegression(fit_intercept = True)\n",
    "lin_mod.fit(X_pca_train, y_pca_train)"
   ]
  },
  {
   "cell_type": "code",
   "execution_count": 31,
   "metadata": {},
   "outputs": [
    {
     "name": "stdout",
     "output_type": "stream",
     "text": [
      "0.9110722073650035\n",
      "0.8172991520282636\n"
     ]
    }
   ],
   "source": [
    "print(lin_mod.score(X_pca_train, y_pca_train))\n",
    "print(lin_mod.score(X_pca_test, y_pca_test))"
   ]
  },
  {
   "cell_type": "code",
   "execution_count": 32,
   "metadata": {},
   "outputs": [
    {
     "data": {
      "text/plain": [
       "[['knnr', 'k = 5', 0.9053974112827241, 0.7309094955026095],\n",
       " ['LR', '', 0.9110722073650035, 0.8172991520282636]]"
      ]
     },
     "execution_count": 32,
     "metadata": {},
     "output_type": "execute_result"
    }
   ],
   "source": [
    "report_table = report_table + [['LR', '', lin_mod.score(X_pca_train, y_pca_train), lin_mod.score(X_pca_test, y_pca_test)]]\n",
    "report_table"
   ]
  },
  {
   "cell_type": "markdown",
   "metadata": {},
   "source": [
    "SGD Regressor"
   ]
  },
  {
   "cell_type": "code",
   "execution_count": 33,
   "metadata": {},
   "outputs": [
    {
     "data": {
      "text/plain": [
       "GridSearchCV(cv=10, error_score='raise',\n",
       "       estimator=SGDRegressor(alpha=0.0001, average=False, epsilon=0.1, eta0=0.01,\n",
       "       fit_intercept=True, l1_ratio=0.15, learning_rate='optimal',\n",
       "       loss='squared_loss', max_iter=None, n_iter=None, penalty='l2',\n",
       "       power_t=0.25, random_state=0, shuffle=True, tol=None, verbose=0,\n",
       "       warm_start=False),\n",
       "       fit_params=None, iid=True, n_jobs=1,\n",
       "       param_grid={'max_iter': [1000, 10000], 'penalty': ['l1', 'l2']},\n",
       "       pre_dispatch='2*n_jobs', refit=True, return_train_score='warn',\n",
       "       scoring='r2', verbose=0)"
      ]
     },
     "execution_count": 33,
     "metadata": {},
     "output_type": "execute_result"
    }
   ],
   "source": [
    "from sklearn.linear_model import SGDRegressor\n",
    "param_grid = {\"max_iter\":[1000,10000], \"penalty\":['l1','l2']}\n",
    "\n",
    "sgd_reg = SGDRegressor(random_state=0, learning_rate = 'optimal')\n",
    "grid_sgd = GridSearchCV(estimator = sgd_reg, param_grid = param_grid, cv = 10, scoring = 'r2')\n",
    "grid_sgd.fit(X_pca_train, y_pca_train)"
   ]
  },
  {
   "cell_type": "code",
   "execution_count": 34,
   "metadata": {},
   "outputs": [
    {
     "name": "stdout",
     "output_type": "stream",
     "text": [
      "0.8940861255413455\n",
      "{'max_iter': 1000, 'penalty': 'l2'}\n"
     ]
    }
   ],
   "source": [
    "print(grid_sgd.best_score_)\n",
    "print(grid_sgd.best_params_)"
   ]
  },
  {
   "cell_type": "code",
   "execution_count": 35,
   "metadata": {},
   "outputs": [
    {
     "data": {
      "text/plain": [
       "[['knnr', 'k = 5', 0.9053974112827241, 0.7309094955026095],\n",
       " ['LR', '', 0.9110722073650035, 0.8172991520282636],\n",
       " ['SGD',\n",
       "  'max_iteration = 1000, penalty = l2',\n",
       "  0.9109982697709429,\n",
       "  0.8205052476842276]]"
      ]
     },
     "execution_count": 35,
     "metadata": {},
     "output_type": "execute_result"
    }
   ],
   "source": [
    "report_table = report_table + [['SGD', 'max_iteration = 1000, penalty = l2', grid_sgd.score(X_pca_train, y_pca_train), grid_sgd.score(X_pca_test, y_pca_test)]]\n",
    "report_table"
   ]
  },
  {
   "cell_type": "markdown",
   "metadata": {},
   "source": [
    "Ridge Regression"
   ]
  },
  {
   "cell_type": "code",
   "execution_count": 36,
   "metadata": {},
   "outputs": [
    {
     "data": {
      "text/plain": [
       "GridSearchCV(cv=10, error_score='raise',\n",
       "       estimator=Ridge(alpha=1.0, copy_X=True, fit_intercept=True, max_iter=None,\n",
       "   normalize=False, random_state=None, solver='auto', tol=0.001),\n",
       "       fit_params=None, iid=True, n_jobs=1,\n",
       "       param_grid={'alpha': [0.02, 0.005, 0.002, 0.001, 1e-05]},\n",
       "       pre_dispatch='2*n_jobs', refit=True, return_train_score='warn',\n",
       "       scoring='r2', verbose=0)"
      ]
     },
     "execution_count": 36,
     "metadata": {},
     "output_type": "execute_result"
    }
   ],
   "source": [
    "from  sklearn.linear_model import Ridge\n",
    "\n",
    "param_grid = {\"alpha\":[1.0/50.0, 1.0/200.0, 1.0/500.0, 1.0/1000.0,.00001]}\n",
    "grid_ridge = GridSearchCV(estimator = Ridge(), param_grid = param_grid, cv = 10, scoring = 'r2')\n",
    "grid_ridge.fit(X_pca_train, y_pca_train)"
   ]
  },
  {
   "cell_type": "code",
   "execution_count": 37,
   "metadata": {},
   "outputs": [
    {
     "name": "stdout",
     "output_type": "stream",
     "text": [
      "0.8934237024921862\n",
      "{'alpha': 0.02}\n"
     ]
    }
   ],
   "source": [
    "print(grid_ridge.best_score_)\n",
    "print(grid_ridge.best_params_)"
   ]
  },
  {
   "cell_type": "code",
   "execution_count": 38,
   "metadata": {},
   "outputs": [
    {
     "data": {
      "text/plain": [
       "[['knnr', 'k = 5', 0.9053974112827241, 0.7309094955026095],\n",
       " ['LR', '', 0.9110722073650035, 0.8172991520282636],\n",
       " ['SGD',\n",
       "  'max_iteration = 1000, penalty = l2',\n",
       "  0.9109982697709429,\n",
       "  0.8205052476842276],\n",
       " ['Ridge', 'alpha = 0.02', 0.9110721953605223, 0.817378456433001]]"
      ]
     },
     "execution_count": 38,
     "metadata": {},
     "output_type": "execute_result"
    }
   ],
   "source": [
    "report_table = report_table + [['Ridge', 'alpha = 0.02', grid_ridge.score(X_pca_train, y_pca_train), grid_ridge.score(X_pca_test, y_pca_test)]]\n",
    "report_table"
   ]
  },
  {
   "cell_type": "markdown",
   "metadata": {},
   "source": [
    "LASSO Regression"
   ]
  },
  {
   "cell_type": "code",
   "execution_count": 39,
   "metadata": {},
   "outputs": [
    {
     "data": {
      "text/plain": [
       "GridSearchCV(cv=10, error_score='raise',\n",
       "       estimator=Lasso(alpha=1.0, copy_X=True, fit_intercept=True, max_iter=1000,\n",
       "   normalize=False, positive=False, precompute=False, random_state=None,\n",
       "   selection='cyclic', tol=0.0001, warm_start=False),\n",
       "       fit_params=None, iid=True, n_jobs=1,\n",
       "       param_grid={'alpha': [0.02, 0.005, 0.002, 0.001, 1e-05]},\n",
       "       pre_dispatch='2*n_jobs', refit=True, return_train_score='warn',\n",
       "       scoring='r2', verbose=0)"
      ]
     },
     "execution_count": 39,
     "metadata": {},
     "output_type": "execute_result"
    }
   ],
   "source": [
    "from sklearn.linear_model import Lasso\n",
    "param_grid = {\"alpha\":[1.0/50.0, 1.0/200.0, 1.0/500.0, 1.0/1000.0,.00001]}\n",
    "grid_lasso = GridSearchCV(Lasso(), param_grid = param_grid, cv = 10, scoring = 'r2')\n",
    "\n",
    "grid_lasso.fit(X_pca_train, y_pca_train)"
   ]
  },
  {
   "cell_type": "code",
   "execution_count": 40,
   "metadata": {},
   "outputs": [
    {
     "name": "stdout",
     "output_type": "stream",
     "text": [
      "0.8934422816087602\n",
      "{'alpha': 0.02}\n"
     ]
    }
   ],
   "source": [
    "print(grid_lasso.best_score_)\n",
    "print(grid_lasso.best_params_)"
   ]
  },
  {
   "cell_type": "code",
   "execution_count": 41,
   "metadata": {},
   "outputs": [
    {
     "data": {
      "text/plain": [
       "[['knnr', 'k = 5', 0.9053974112827241, 0.7309094955026095],\n",
       " ['LR', '', 0.9110722073650035, 0.8172991520282636],\n",
       " ['SGD',\n",
       "  'max_iteration = 1000, penalty = l2',\n",
       "  0.9109982697709429,\n",
       "  0.8205052476842276],\n",
       " ['Ridge', 'alpha = 0.02', 0.9110721953605223, 0.817378456433001],\n",
       " ['Lasso', 'alpha = 0.02', 0.9110708448666384, 0.8181136055269266]]"
      ]
     },
     "execution_count": 41,
     "metadata": {},
     "output_type": "execute_result"
    }
   ],
   "source": [
    "report_table = report_table + [['Lasso', 'alpha = 0.02', grid_lasso.score(X_pca_train, y_pca_train), grid_lasso.score(X_pca_test, y_pca_test)]]\n",
    "report_table"
   ]
  },
  {
   "cell_type": "markdown",
   "metadata": {},
   "source": [
    "SVR Linear"
   ]
  },
  {
   "cell_type": "code",
   "execution_count": 42,
   "metadata": {},
   "outputs": [
    {
     "data": {
      "text/plain": [
       "GridSearchCV(cv=10, error_score='raise',\n",
       "       estimator=LinearSVR(C=1.0, dual=True, epsilon=0.0, fit_intercept=True,\n",
       "     intercept_scaling=1.0, loss='epsilon_insensitive', max_iter=1000,\n",
       "     random_state=None, tol=0.0001, verbose=0),\n",
       "       fit_params=None, iid=True, n_jobs=1,\n",
       "       param_grid={'C': [10, 100, 1000], 'epsilon': [0.01, 0.1, 1, 10]},\n",
       "       pre_dispatch='2*n_jobs', refit=True, return_train_score='warn',\n",
       "       scoring='r2', verbose=0)"
      ]
     },
     "execution_count": 42,
     "metadata": {},
     "output_type": "execute_result"
    }
   ],
   "source": [
    "from sklearn.svm import LinearSVR\n",
    "\n",
    "param_grid  = {\"C\": [ 10, 100, 1000], 'epsilon':[0.01,0.1,1,10]}\n",
    "grid_svl = GridSearchCV(estimator = LinearSVR(), param_grid = param_grid, cv = 10, scoring = 'r2')\n",
    "grid_svl.fit(X_pca_train, y_pca_train)"
   ]
  },
  {
   "cell_type": "code",
   "execution_count": 43,
   "metadata": {},
   "outputs": [
    {
     "name": "stdout",
     "output_type": "stream",
     "text": [
      "0.8928179134074224\n",
      "{'C': 1000, 'epsilon': 10}\n"
     ]
    }
   ],
   "source": [
    "print(grid_svl.best_score_)\n",
    "print(grid_svl.best_params_)"
   ]
  },
  {
   "cell_type": "code",
   "execution_count": 44,
   "metadata": {},
   "outputs": [
    {
     "data": {
      "text/plain": [
       "[['knnr', 'k = 5', 0.9053974112827241, 0.7309094955026095],\n",
       " ['LR', '', 0.9110722073650035, 0.8172991520282636],\n",
       " ['SGD',\n",
       "  'max_iteration = 1000, penalty = l2',\n",
       "  0.9109982697709429,\n",
       "  0.8205052476842276],\n",
       " ['Ridge', 'alpha = 0.02', 0.9110721953605223, 0.817378456433001],\n",
       " ['Lasso', 'alpha = 0.02', 0.9110708448666384, 0.8181136055269266],\n",
       " ['SVR Linear',\n",
       "  'C = 1000, epsilon = 10',\n",
       "  0.8968529486588168,\n",
       "  0.8400398900537003]]"
      ]
     },
     "execution_count": 44,
     "metadata": {},
     "output_type": "execute_result"
    }
   ],
   "source": [
    "report_table = report_table + [['SVR Linear', 'C = 1000, epsilon = 10', grid_svl.score(X_pca_train, y_pca_train), grid_svl.score(X_pca_test, y_pca_test)]]\n",
    "report_table"
   ]
  },
  {
   "cell_type": "markdown",
   "metadata": {},
   "source": [
    "SVM Kernel"
   ]
  },
  {
   "cell_type": "code",
   "execution_count": 45,
   "metadata": {},
   "outputs": [
    {
     "data": {
      "text/plain": [
       "GridSearchCV(cv=10, error_score='raise',\n",
       "       estimator=SVR(C=1.0, cache_size=200, coef0=0.0, degree=3, epsilon=0.1, gamma='auto',\n",
       "  kernel='rbf', max_iter=-1, shrinking=True, tol=0.001, verbose=False),\n",
       "       fit_params=None, iid=True, n_jobs=-1,\n",
       "       param_grid={'C': [1, 10, 100, 1000], 'gamma': [0.02, 0.005, 0.002], 'epsilon': [0.1, 1, 10]},\n",
       "       pre_dispatch='2*n_jobs', refit=True, return_train_score='warn',\n",
       "       scoring='r2', verbose=0)"
      ]
     },
     "execution_count": 45,
     "metadata": {},
     "output_type": "execute_result"
    }
   ],
   "source": [
    "from sklearn.svm import SVR\n",
    "param_grid = {\"C\": [1, 10, 100, 1000], \"gamma\":[1.0/50.0, 1.0/200.0, 1.0/500.0], 'epsilon':[0.1,1,10]}\n",
    "\n",
    "## Define the SVM model\n",
    "svm_reg = SVR(kernel='rbf') \n",
    "\n",
    "## Perform the grid search over the parameters\n",
    "\n",
    "grid_svrk = GridSearchCV(estimator = svm_reg, param_grid = param_grid, cv = 10, scoring = 'r2', n_jobs=-1)\n",
    "grid_svrk.fit(X_pca_train, y_pca_train)"
   ]
  },
  {
   "cell_type": "code",
   "execution_count": 46,
   "metadata": {},
   "outputs": [
    {
     "name": "stdout",
     "output_type": "stream",
     "text": [
      "0.862658354508517\n",
      "{'C': 1000, 'epsilon': 10, 'gamma': 0.02}\n"
     ]
    }
   ],
   "source": [
    "print(grid_svrk.best_score_)\n",
    "print(grid_svrk.best_params_)"
   ]
  },
  {
   "cell_type": "code",
   "execution_count": 47,
   "metadata": {},
   "outputs": [
    {
     "data": {
      "text/plain": [
       "[['knnr', 'k = 5', 0.9053974112827241, 0.7309094955026095],\n",
       " ['LR', '', 0.9110722073650035, 0.8172991520282636],\n",
       " ['SGD',\n",
       "  'max_iteration = 1000, penalty = l2',\n",
       "  0.9109982697709429,\n",
       "  0.8205052476842276],\n",
       " ['Ridge', 'alpha = 0.02', 0.9110721953605223, 0.817378456433001],\n",
       " ['Lasso', 'alpha = 0.02', 0.9110708448666384, 0.8181136055269266],\n",
       " ['SVR Linear',\n",
       "  'C = 1000, epsilon = 10',\n",
       "  0.8968529486588168,\n",
       "  0.8400398900537003],\n",
       " ['SVR K',\n",
       "  'C = 1000, epsilon = 10, gamma = 0.02',\n",
       "  0.8509186493188093,\n",
       "  0.8356502897702194]]"
      ]
     },
     "execution_count": 47,
     "metadata": {},
     "output_type": "execute_result"
    }
   ],
   "source": [
    "report_table = report_table + [['SVR K', 'C = 1000, epsilon = 10, gamma = 0.02', grid_svrk.score(X_pca_train, y_pca_train), grid_svrk.score(X_pca_test, y_pca_test)]]\n",
    "report_table"
   ]
  },
  {
   "cell_type": "markdown",
   "metadata": {},
   "source": [
    "Polynomial Regression"
   ]
  },
  {
   "cell_type": "code",
   "execution_count": 48,
   "metadata": {},
   "outputs": [],
   "source": [
    "from  sklearn.preprocessing  import PolynomialFeatures\n",
    "from sklearn.linear_model import LinearRegression\n",
    "lreg = LinearRegression()\n",
    "r2_train_score_list = []\n",
    "for n in range(1,3):\n",
    "    poly = PolynomialFeatures(n)\n",
    "    X_train_poly = poly.fit_transform(X_pca_train)\n",
    "    lreg.fit(X_train_poly, y_train)\n",
    "    r2_train_score_list.append(lreg.score(X_train_poly, y_train))"
   ]
  },
  {
   "cell_type": "code",
   "execution_count": 49,
   "metadata": {},
   "outputs": [
    {
     "data": {
      "text/plain": [
       "[0.9110722073650035, 0.922120387377987]"
      ]
     },
     "execution_count": 49,
     "metadata": {},
     "output_type": "execute_result"
    }
   ],
   "source": [
    "r2_train_score_list"
   ]
  },
  {
   "cell_type": "code",
   "execution_count": 50,
   "metadata": {},
   "outputs": [
    {
     "name": "stdout",
     "output_type": "stream",
     "text": [
      "0.922120387377987\n",
      "0.8112523544257877\n"
     ]
    }
   ],
   "source": [
    "poly = PolynomialFeatures(2)\n",
    "X_train_poly = poly.fit_transform(X_pca_train)\n",
    "X_test_poly = poly.fit_transform(X_pca_test)\n",
    "print(lreg.score(X_train_poly, y_pca_train))\n",
    "print(lreg.score(X_test_poly, y_pca_test))"
   ]
  },
  {
   "cell_type": "code",
   "execution_count": 51,
   "metadata": {},
   "outputs": [
    {
     "data": {
      "text/plain": [
       "[['knnr', 'k = 5', 0.9053974112827241, 0.7309094955026095],\n",
       " ['LR', '', 0.9110722073650035, 0.8172991520282636],\n",
       " ['SGD',\n",
       "  'max_iteration = 1000, penalty = l2',\n",
       "  0.9109982697709429,\n",
       "  0.8205052476842276],\n",
       " ['Ridge', 'alpha = 0.02', 0.9110721953605223, 0.817378456433001],\n",
       " ['Lasso', 'alpha = 0.02', 0.9110708448666384, 0.8181136055269266],\n",
       " ['SVR Linear',\n",
       "  'C = 1000, epsilon = 10',\n",
       "  0.8968529486588168,\n",
       "  0.8400398900537003],\n",
       " ['SVR K',\n",
       "  'C = 1000, epsilon = 10, gamma = 0.02',\n",
       "  0.8509186493188093,\n",
       "  0.8356502897702194],\n",
       " ['Polynomial Regression', 'n = 2', 0.922120387377987, 0.8112523544257877]]"
      ]
     },
     "execution_count": 51,
     "metadata": {},
     "output_type": "execute_result"
    }
   ],
   "source": [
    "report_table = report_table + [['Polynomial Regression', 'n = 2', lreg.score(X_train_poly, y_pca_train), lreg.score(X_test_poly, y_pca_test)]]\n",
    "report_table"
   ]
  },
  {
   "cell_type": "code",
   "execution_count": 52,
   "metadata": {},
   "outputs": [
    {
     "data": {
      "text/html": [
       "<div>\n",
       "<style scoped>\n",
       "    .dataframe tbody tr th:only-of-type {\n",
       "        vertical-align: middle;\n",
       "    }\n",
       "\n",
       "    .dataframe tbody tr th {\n",
       "        vertical-align: top;\n",
       "    }\n",
       "\n",
       "    .dataframe thead th {\n",
       "        text-align: right;\n",
       "    }\n",
       "</style>\n",
       "<table border=\"1\" class=\"dataframe\">\n",
       "  <thead>\n",
       "    <tr style=\"text-align: right;\">\n",
       "      <th></th>\n",
       "      <th>Model name</th>\n",
       "      <th>Model parameter</th>\n",
       "      <th>Train accuracy</th>\n",
       "      <th>Test accuracy</th>\n",
       "    </tr>\n",
       "    <tr>\n",
       "      <th>Model name</th>\n",
       "      <th></th>\n",
       "      <th></th>\n",
       "      <th></th>\n",
       "      <th></th>\n",
       "    </tr>\n",
       "  </thead>\n",
       "  <tbody>\n",
       "    <tr>\n",
       "      <th>knnr</th>\n",
       "      <td>knnr</td>\n",
       "      <td>k = 5</td>\n",
       "      <td>0.905397</td>\n",
       "      <td>0.730909</td>\n",
       "    </tr>\n",
       "    <tr>\n",
       "      <th>LR</th>\n",
       "      <td>LR</td>\n",
       "      <td></td>\n",
       "      <td>0.911072</td>\n",
       "      <td>0.817299</td>\n",
       "    </tr>\n",
       "    <tr>\n",
       "      <th>SGD</th>\n",
       "      <td>SGD</td>\n",
       "      <td>max_iteration = 1000, penalty = l2</td>\n",
       "      <td>0.910998</td>\n",
       "      <td>0.820505</td>\n",
       "    </tr>\n",
       "    <tr>\n",
       "      <th>Ridge</th>\n",
       "      <td>Ridge</td>\n",
       "      <td>alpha = 0.02</td>\n",
       "      <td>0.911072</td>\n",
       "      <td>0.817378</td>\n",
       "    </tr>\n",
       "    <tr>\n",
       "      <th>Lasso</th>\n",
       "      <td>Lasso</td>\n",
       "      <td>alpha = 0.02</td>\n",
       "      <td>0.911071</td>\n",
       "      <td>0.818114</td>\n",
       "    </tr>\n",
       "    <tr>\n",
       "      <th>SVR Linear</th>\n",
       "      <td>SVR Linear</td>\n",
       "      <td>C = 1000, epsilon = 10</td>\n",
       "      <td>0.896853</td>\n",
       "      <td>0.840040</td>\n",
       "    </tr>\n",
       "    <tr>\n",
       "      <th>SVR K</th>\n",
       "      <td>SVR K</td>\n",
       "      <td>C = 1000, epsilon = 10, gamma = 0.02</td>\n",
       "      <td>0.850919</td>\n",
       "      <td>0.835650</td>\n",
       "    </tr>\n",
       "    <tr>\n",
       "      <th>Polynomial Regression</th>\n",
       "      <td>Polynomial Regression</td>\n",
       "      <td>n = 2</td>\n",
       "      <td>0.922120</td>\n",
       "      <td>0.811252</td>\n",
       "    </tr>\n",
       "  </tbody>\n",
       "</table>\n",
       "</div>"
      ],
      "text/plain": [
       "                                  Model name  \\\n",
       "Model name                                     \n",
       "knnr                                    knnr   \n",
       "LR                                        LR   \n",
       "SGD                                      SGD   \n",
       "Ridge                                  Ridge   \n",
       "Lasso                                  Lasso   \n",
       "SVR Linear                        SVR Linear   \n",
       "SVR K                                  SVR K   \n",
       "Polynomial Regression  Polynomial Regression   \n",
       "\n",
       "                                            Model parameter  Train accuracy  \\\n",
       "Model name                                                                    \n",
       "knnr                                                  k = 5        0.905397   \n",
       "LR                                                                 0.911072   \n",
       "SGD                      max_iteration = 1000, penalty = l2        0.910998   \n",
       "Ridge                                          alpha = 0.02        0.911072   \n",
       "Lasso                                          alpha = 0.02        0.911071   \n",
       "SVR Linear                           C = 1000, epsilon = 10        0.896853   \n",
       "SVR K                  C = 1000, epsilon = 10, gamma = 0.02        0.850919   \n",
       "Polynomial Regression                                 n = 2        0.922120   \n",
       "\n",
       "                       Test accuracy  \n",
       "Model name                            \n",
       "knnr                        0.730909  \n",
       "LR                          0.817299  \n",
       "SGD                         0.820505  \n",
       "Ridge                       0.817378  \n",
       "Lasso                       0.818114  \n",
       "SVR Linear                  0.840040  \n",
       "SVR K                       0.835650  \n",
       "Polynomial Regression       0.811252  "
      ]
     },
     "execution_count": 52,
     "metadata": {},
     "output_type": "execute_result"
    }
   ],
   "source": [
    "report = pd.DataFrame(report_table,columns = ['Model name', 'Model parameter', 'Train accuracy', 'Test accuracy'])\n",
    "report.index = report['Model name']\n",
    "report"
   ]
  },
  {
   "cell_type": "markdown",
   "metadata": {},
   "source": [
    "Results from the models without PCA"
   ]
  },
  {
   "cell_type": "markdown",
   "metadata": {},
   "source": [
    "Model name\t            Model parameter\t                Train accuracy  Test accuracy\n",
    "\n",
    "knnr\t                k = 5\t                        8.746797e-01\t8.433737e-01\n",
    "\n",
    "LR\t\t                                                9.617890e-01    6.729077e-01\n",
    "\n",
    "SGD\t                    max_iteraration = 10000 \n",
    "                        penalty = l2\t               -3.504424e+09   -2.237433e+10\n",
    "\n",
    "Ridge\t                alpha = 0.02\t                9.533414e-01\t8.542991e-01\n",
    "\n",
    "Lasso\t                alpha = 0.02\t                9.550640e-01\t8.656893e-01\n",
    "\n",
    "SVR Linear\t            C = 1000, \n",
    "                        epsilon = 1\t                    9.357588e-01\t8.986740e-01\n",
    "\n",
    "SVR K\t                C = 1000,  \n",
    "                        epsilon = 10, \n",
    "                        gamma = 0.02\t                8.892517e-01\t8.681394e-01\n",
    "\n",
    "Polynomial Regression\tn = 2\t                        1.000000e+00   -6.483943e+02\n",
    "\n",
    "\n",
    "PCA does help in getting better results"
   ]
  },
  {
   "cell_type": "markdown",
   "metadata": {},
   "source": [
    "Neural Network Model for Regression"
   ]
  },
  {
   "cell_type": "code",
   "execution_count": 53,
   "metadata": {},
   "outputs": [
    {
     "name": "stderr",
     "output_type": "stream",
     "text": [
      "C:\\Users\\vijay\\AppData\\Local\\Continuum\\anaconda3\\lib\\site-packages\\h5py\\__init__.py:36: FutureWarning: Conversion of the second argument of issubdtype from `float` to `np.floating` is deprecated. In future, it will be treated as `np.float64 == np.dtype(float).type`.\n",
      "  from ._conv import register_converters as _register_converters\n",
      "Using TensorFlow backend.\n"
     ]
    }
   ],
   "source": [
    "import keras\n",
    "from sklearn.model_selection import GridSearchCV\n",
    "from keras.models import Sequential\n",
    "from keras.layers import Dense\n",
    "from keras.wrappers.scikit_learn import KerasRegressor"
   ]
  },
  {
   "cell_type": "code",
   "execution_count": 54,
   "metadata": {},
   "outputs": [],
   "source": [
    "model = Sequential()\n",
    "model.add(Dense(13, input_dim=77, kernel_initializer='normal', activation='relu'))\n",
    "model.add(Dense(1, kernel_initializer='normal'))\n",
    "model.compile(loss='mse', optimizer='sgd' , metrics = ['mse'])"
   ]
  },
  {
   "cell_type": "code",
   "execution_count": 55,
   "metadata": {},
   "outputs": [
    {
     "name": "stdout",
     "output_type": "stream",
     "text": [
      "Epoch 1/100\n",
      "4083/4083 [==============================] - 1s 141us/step - loss: 459646.3637 - mean_squared_error: 459646.3637\n",
      "Epoch 2/100\n",
      "4083/4083 [==============================] - 0s 70us/step - loss: 421957.6242 - mean_squared_error: 421957.6242\n",
      "Epoch 3/100\n",
      "4083/4083 [==============================] - 0s 69us/step - loss: 422281.6413 - mean_squared_error: 422281.6413\n",
      "Epoch 4/100\n",
      "4083/4083 [==============================] - 0s 70us/step - loss: 421877.8359 - mean_squared_error: 421877.8359\n",
      "Epoch 5/100\n",
      "4083/4083 [==============================] - 0s 70us/step - loss: 421997.8409 - mean_squared_error: 421997.8409\n",
      "Epoch 6/100\n",
      "4083/4083 [==============================] - 0s 71us/step - loss: 421861.3479 - mean_squared_error: 421861.3479\n",
      "Epoch 7/100\n",
      "4083/4083 [==============================] - 0s 71us/step - loss: 422037.4633 - mean_squared_error: 422037.4633\n",
      "Epoch 8/100\n",
      "4083/4083 [==============================] - 0s 63us/step - loss: 422061.6009 - mean_squared_error: 422061.6009\n",
      "Epoch 9/100\n",
      "4083/4083 [==============================] - 0s 74us/step - loss: 422060.9305 - mean_squared_error: 422060.9305\n",
      "Epoch 10/100\n",
      "4083/4083 [==============================] - 0s 70us/step - loss: 421993.8953 - mean_squared_error: 421993.8953\n",
      "Epoch 11/100\n",
      "4083/4083 [==============================] - 0s 71us/step - loss: 422000.3998 - mean_squared_error: 422000.3998\n",
      "Epoch 12/100\n",
      "4083/4083 [==============================] - 0s 69us/step - loss: 422006.5779 - mean_squared_error: 422006.5779\n",
      "Epoch 13/100\n",
      "4083/4083 [==============================] - 0s 70us/step - loss: 421978.4324 - mean_squared_error: 421978.4324\n",
      "Epoch 14/100\n",
      "4083/4083 [==============================] - 0s 70us/step - loss: 421979.3197 - mean_squared_error: 421979.3197\n",
      "Epoch 15/100\n",
      "4083/4083 [==============================] - 0s 70us/step - loss: 421622.2485 - mean_squared_error: 421622.2485\n",
      "Epoch 16/100\n",
      "4083/4083 [==============================] - 0s 68us/step - loss: 422160.4564 - mean_squared_error: 422160.4564\n",
      "Epoch 17/100\n",
      "4083/4083 [==============================] - 0s 71us/step - loss: 422017.9178 - mean_squared_error: 422017.9178\n",
      "Epoch 18/100\n",
      "4083/4083 [==============================] - 0s 70us/step - loss: 422031.6968 - mean_squared_error: 422031.6968\n",
      "Epoch 19/100\n",
      "4083/4083 [==============================] - 0s 66us/step - loss: 422064.2423 - mean_squared_error: 422064.2423\n",
      "Epoch 20/100\n",
      "4083/4083 [==============================] - 0s 61us/step - loss: 422037.3634 - mean_squared_error: 422037.3634\n",
      "Epoch 21/100\n",
      "4083/4083 [==============================] - 0s 62us/step - loss: 422013.3328 - mean_squared_error: 422013.3328\n",
      "Epoch 22/100\n",
      "4083/4083 [==============================] - 0s 62us/step - loss: 422042.4997 - mean_squared_error: 422042.4997\n",
      "Epoch 23/100\n",
      "4083/4083 [==============================] - 0s 63us/step - loss: 421999.3646 - mean_squared_error: 421999.3646\n",
      "Epoch 24/100\n",
      "4083/4083 [==============================] - 0s 69us/step - loss: 421734.3770 - mean_squared_error: 421734.3770\n",
      "Epoch 25/100\n",
      "4083/4083 [==============================] - 0s 59us/step - loss: 421924.3838 - mean_squared_error: 421924.3838\n",
      "Epoch 26/100\n",
      "4083/4083 [==============================] - 0s 66us/step - loss: 421799.3249 - mean_squared_error: 421799.3249\n",
      "Epoch 27/100\n",
      "4083/4083 [==============================] - 0s 60us/step - loss: 421795.6205 - mean_squared_error: 421795.6205\n",
      "Epoch 28/100\n",
      "4083/4083 [==============================] - 0s 64us/step - loss: 422046.4848 - mean_squared_error: 422046.4848\n",
      "Epoch 29/100\n",
      "4083/4083 [==============================] - 0s 63us/step - loss: 422135.0195 - mean_squared_error: 422135.0195\n",
      "Epoch 30/100\n",
      "4083/4083 [==============================] - 0s 66us/step - loss: 421978.1643 - mean_squared_error: 421978.1643\n",
      "Epoch 31/100\n",
      "4083/4083 [==============================] - 0s 64us/step - loss: 421996.1598 - mean_squared_error: 421996.1598\n",
      "Epoch 32/100\n",
      "4083/4083 [==============================] - 0s 61us/step - loss: 422022.3857 - mean_squared_error: 422022.3857\n",
      "Epoch 33/100\n",
      "4083/4083 [==============================] - 0s 60us/step - loss: 421932.5964 - mean_squared_error: 421932.5964\n",
      "Epoch 34/100\n",
      "4083/4083 [==============================] - 0s 64us/step - loss: 421988.0979 - mean_squared_error: 421988.0979\n",
      "Epoch 35/100\n",
      "4083/4083 [==============================] - 0s 62us/step - loss: 422074.0337 - mean_squared_error: 422074.0337\n",
      "Epoch 36/100\n",
      "4083/4083 [==============================] - 0s 61us/step - loss: 421814.6038 - mean_squared_error: 421814.6038\n",
      "Epoch 37/100\n",
      "4083/4083 [==============================] - 0s 61us/step - loss: 422069.6608 - mean_squared_error: 422069.6608\n",
      "Epoch 38/100\n",
      "4083/4083 [==============================] - 0s 62us/step - loss: 421797.6017 - mean_squared_error: 421797.6017\n",
      "Epoch 39/100\n",
      "4083/4083 [==============================] - 0s 60us/step - loss: 422003.9198 - mean_squared_error: 422003.9198\n",
      "Epoch 40/100\n",
      "4083/4083 [==============================] - 0s 62us/step - loss: 421948.6907 - mean_squared_error: 421948.6907\n",
      "Epoch 41/100\n",
      "4083/4083 [==============================] - 0s 64us/step - loss: 421862.5865 - mean_squared_error: 421862.5865\n",
      "Epoch 42/100\n",
      "4083/4083 [==============================] - 0s 62us/step - loss: 422070.8276 - mean_squared_error: 422070.8276\n",
      "Epoch 43/100\n",
      "4083/4083 [==============================] - 0s 61us/step - loss: 422014.8338 - mean_squared_error: 422014.8338\n",
      "Epoch 44/100\n",
      "4083/4083 [==============================] - 0s 60us/step - loss: 421763.2592 - mean_squared_error: 421763.2592\n",
      "Epoch 45/100\n",
      "4083/4083 [==============================] - 0s 60us/step - loss: 422000.7427 - mean_squared_error: 422000.7427\n",
      "Epoch 46/100\n",
      "4083/4083 [==============================] - 0s 62us/step - loss: 421956.9987 - mean_squared_error: 421956.9987\n",
      "Epoch 47/100\n",
      "4083/4083 [==============================] - 0s 61us/step - loss: 421667.0595 - mean_squared_error: 421667.0595\n",
      "Epoch 48/100\n",
      "4083/4083 [==============================] - 0s 61us/step - loss: 422083.6731 - mean_squared_error: 422083.6731\n",
      "Epoch 49/100\n",
      "4083/4083 [==============================] - 0s 60us/step - loss: 421818.7549 - mean_squared_error: 421818.7549\n",
      "Epoch 50/100\n",
      "4083/4083 [==============================] - 0s 62us/step - loss: 421973.0332 - mean_squared_error: 421973.0332\n",
      "Epoch 51/100\n",
      "4083/4083 [==============================] - 0s 61us/step - loss: 422027.9876 - mean_squared_error: 422027.9876\n",
      "Epoch 52/100\n",
      "4083/4083 [==============================] - 0s 61us/step - loss: 421839.5991 - mean_squared_error: 421839.5991\n",
      "Epoch 53/100\n",
      "4083/4083 [==============================] - 0s 60us/step - loss: 422038.8168 - mean_squared_error: 422038.8168\n",
      "Epoch 54/100\n",
      "4083/4083 [==============================] - 0s 60us/step - loss: 421968.7960 - mean_squared_error: 421968.7960\n",
      "Epoch 55/100\n",
      "4083/4083 [==============================] - 0s 55us/step - loss: 421969.0894 - mean_squared_error: 421969.0894\n",
      "Epoch 56/100\n",
      "4083/4083 [==============================] - 0s 61us/step - loss: 421936.6604 - mean_squared_error: 421936.6604\n",
      "Epoch 57/100\n",
      "4083/4083 [==============================] - 0s 62us/step - loss: 421961.2548 - mean_squared_error: 421961.2548\n",
      "Epoch 58/100\n",
      "4083/4083 [==============================] - 0s 62us/step - loss: 421971.9675 - mean_squared_error: 421971.9675\n",
      "Epoch 59/100\n",
      "4083/4083 [==============================] - 0s 62us/step - loss: 421903.6940 - mean_squared_error: 421903.6940\n",
      "Epoch 60/100\n",
      "4083/4083 [==============================] - 0s 62us/step - loss: 422019.7794 - mean_squared_error: 422019.7794\n",
      "Epoch 61/100\n",
      "4083/4083 [==============================] - 0s 62us/step - loss: 421992.3785 - mean_squared_error: 421992.3785\n",
      "Epoch 62/100\n",
      "4083/4083 [==============================] - 0s 62us/step - loss: 422080.0973 - mean_squared_error: 422080.0973\n",
      "Epoch 63/100\n",
      "4083/4083 [==============================] - 0s 62us/step - loss: 421998.0921 - mean_squared_error: 421998.0921\n",
      "Epoch 64/100\n",
      "4083/4083 [==============================] - 0s 62us/step - loss: 421973.8894 - mean_squared_error: 421973.8894\n",
      "Epoch 65/100\n",
      "4083/4083 [==============================] - 0s 61us/step - loss: 421982.8750 - mean_squared_error: 421982.8750\n",
      "Epoch 66/100\n"
     ]
    },
    {
     "name": "stdout",
     "output_type": "stream",
     "text": [
      "4083/4083 [==============================] - 0s 61us/step - loss: 421945.3429 - mean_squared_error: 421945.3429\n",
      "Epoch 67/100\n",
      "4083/4083 [==============================] - 0s 61us/step - loss: 421848.6188 - mean_squared_error: 421848.6188\n",
      "Epoch 68/100\n",
      "4083/4083 [==============================] - 0s 60us/step - loss: 421960.8022 - mean_squared_error: 421960.8022\n",
      "Epoch 69/100\n",
      "4083/4083 [==============================] - 0s 60us/step - loss: 422007.3446 - mean_squared_error: 422007.3446\n",
      "Epoch 70/100\n",
      "4083/4083 [==============================] - 0s 59us/step - loss: 422045.3343 - mean_squared_error: 422045.3343\n",
      "Epoch 71/100\n",
      "4083/4083 [==============================] - 0s 61us/step - loss: 421735.9679 - mean_squared_error: 421735.9679\n",
      "Epoch 72/100\n",
      "4083/4083 [==============================] - 0s 61us/step - loss: 421778.2509 - mean_squared_error: 421778.2509\n",
      "Epoch 73/100\n",
      "4083/4083 [==============================] - 0s 61us/step - loss: 421893.1042 - mean_squared_error: 421893.1042\n",
      "Epoch 74/100\n",
      "4083/4083 [==============================] - 0s 61us/step - loss: 421833.6217 - mean_squared_error: 421833.6217\n",
      "Epoch 75/100\n",
      "4083/4083 [==============================] - 0s 60us/step - loss: 421848.7562 - mean_squared_error: 421848.7562\n",
      "Epoch 76/100\n",
      "4083/4083 [==============================] - 0s 60us/step - loss: 421553.9027 - mean_squared_error: 421553.9027\n",
      "Epoch 77/100\n",
      "4083/4083 [==============================] - 0s 60us/step - loss: 421961.3592 - mean_squared_error: 421961.3592\n",
      "Epoch 78/100\n",
      "4083/4083 [==============================] - 0s 61us/step - loss: 421938.4616 - mean_squared_error: 421938.4616\n",
      "Epoch 79/100\n",
      "4083/4083 [==============================] - 0s 60us/step - loss: 421938.1541 - mean_squared_error: 421938.1541\n",
      "Epoch 80/100\n",
      "4083/4083 [==============================] - 0s 62us/step - loss: 421891.0729 - mean_squared_error: 421891.0729\n",
      "Epoch 81/100\n",
      "4083/4083 [==============================] - 0s 61us/step - loss: 421992.0644 - mean_squared_error: 421992.0644\n",
      "Epoch 82/100\n",
      "4083/4083 [==============================] - 0s 62us/step - loss: 421931.9292 - mean_squared_error: 421931.9292\n",
      "Epoch 83/100\n",
      "4083/4083 [==============================] - 0s 61us/step - loss: 422076.1572 - mean_squared_error: 422076.1572\n",
      "Epoch 84/100\n",
      "4083/4083 [==============================] - 0s 60us/step - loss: 421884.2757 - mean_squared_error: 421884.2757\n",
      "Epoch 85/100\n",
      "4083/4083 [==============================] - 0s 62us/step - loss: 422031.2276 - mean_squared_error: 422031.2276\n",
      "Epoch 86/100\n",
      "4083/4083 [==============================] - 0s 61us/step - loss: 421912.5055 - mean_squared_error: 421912.5055\n",
      "Epoch 87/100\n",
      "4083/4083 [==============================] - 0s 62us/step - loss: 421980.1034 - mean_squared_error: 421980.1034 0s - loss: 498066.4218 - mean_squared_error: 49806\n",
      "Epoch 88/100\n",
      "4083/4083 [==============================] - 0s 62us/step - loss: 421865.7392 - mean_squared_error: 421865.7392\n",
      "Epoch 89/100\n",
      "4083/4083 [==============================] - 0s 61us/step - loss: 421976.8748 - mean_squared_error: 421976.8748\n",
      "Epoch 90/100\n",
      "4083/4083 [==============================] - 0s 61us/step - loss: 421969.6528 - mean_squared_error: 421969.6528\n",
      "Epoch 91/100\n",
      "4083/4083 [==============================] - 0s 60us/step - loss: 422059.5674 - mean_squared_error: 422059.5674\n",
      "Epoch 92/100\n",
      "4083/4083 [==============================] - 0s 61us/step - loss: 422031.7782 - mean_squared_error: 422031.7782\n",
      "Epoch 93/100\n",
      "4083/4083 [==============================] - 0s 61us/step - loss: 422086.5031 - mean_squared_error: 422086.5031\n",
      "Epoch 94/100\n",
      "4083/4083 [==============================] - 0s 60us/step - loss: 422042.0129 - mean_squared_error: 422042.0129\n",
      "Epoch 95/100\n",
      "4083/4083 [==============================] - 0s 61us/step - loss: 422046.6705 - mean_squared_error: 422046.6705\n",
      "Epoch 96/100\n",
      "4083/4083 [==============================] - 0s 60us/step - loss: 421985.9229 - mean_squared_error: 421985.9229\n",
      "Epoch 97/100\n",
      "4083/4083 [==============================] - 0s 63us/step - loss: 422019.2870 - mean_squared_error: 422019.2870\n",
      "Epoch 98/100\n",
      "4083/4083 [==============================] - 0s 61us/step - loss: 422040.3227 - mean_squared_error: 422040.3227\n",
      "Epoch 99/100\n",
      "4083/4083 [==============================] - 0s 61us/step - loss: 421946.0789 - mean_squared_error: 421946.0789\n",
      "Epoch 100/100\n",
      "4083/4083 [==============================] - 0s 61us/step - loss: 421935.2182 - mean_squared_error: 421935.2182\n"
     ]
    },
    {
     "data": {
      "text/plain": [
       "<keras.callbacks.History at 0x1f9af2785c0>"
      ]
     },
     "execution_count": 55,
     "metadata": {},
     "output_type": "execute_result"
    }
   ],
   "source": [
    "model.fit(X_train, y_train, epochs = 100, batch_size = 20)"
   ]
  },
  {
   "cell_type": "code",
   "execution_count": 56,
   "metadata": {},
   "outputs": [
    {
     "name": "stdout",
     "output_type": "stream",
     "text": [
      "1750/1750 [==============================] - 0s 40us/step\n"
     ]
    },
    {
     "data": {
      "text/plain": [
       "[154292.569125, 154292.569125]"
      ]
     },
     "execution_count": 56,
     "metadata": {},
     "output_type": "execute_result"
    }
   ],
   "source": [
    "model.evaluate(X_test, y_test)"
   ]
  },
  {
   "cell_type": "code",
   "execution_count": 57,
   "metadata": {},
   "outputs": [
    {
     "name": "stdout",
     "output_type": "stream",
     "text": [
      "Train score: -0.00\n",
      "Test score: -0.01\n"
     ]
    }
   ],
   "source": [
    "from sklearn.metrics import r2_score, recall_score, precision_score\n",
    "\n",
    "y_train_predict = model.predict(X_train)\n",
    "y_test_predict = model.predict(X_test)\n",
    "\n",
    "print('Train score: {:.2f}'.format(r2_score(y_train, y_train_predict)))\n",
    "print('Test score: {:.2f}'.format(r2_score(y_test, y_test_predict)))"
   ]
  }
 ],
 "metadata": {
  "kernelspec": {
   "display_name": "Python 3",
   "language": "python",
   "name": "python3"
  },
  "language_info": {
   "codemirror_mode": {
    "name": "ipython",
    "version": 3
   },
   "file_extension": ".py",
   "mimetype": "text/x-python",
   "name": "python",
   "nbconvert_exporter": "python",
   "pygments_lexer": "ipython3",
   "version": "3.6.5"
  }
 },
 "nbformat": 4,
 "nbformat_minor": 2
}
